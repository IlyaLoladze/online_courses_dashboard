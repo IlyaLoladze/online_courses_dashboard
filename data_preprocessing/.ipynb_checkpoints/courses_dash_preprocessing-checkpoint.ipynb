{
 "cells": [
  {
   "cell_type": "code",
   "execution_count": 166,
   "metadata": {
    "id": "wFP9DfGw33VM"
   },
   "outputs": [],
   "source": [
    "import os\n",
    "import pandas as pd"
   ]
  },
  {
   "cell_type": "code",
   "execution_count": 167,
   "metadata": {},
   "outputs": [],
   "source": [
    "current_path = os.getcwd()"
   ]
  },
  {
   "cell_type": "code",
   "execution_count": 168,
   "metadata": {
    "colab": {
     "base_uri": "https://localhost:8080/",
     "height": 480
    },
    "id": "WYFTb7YnXt80",
    "outputId": "16420fcc-4bb7-4b5d-dbae-a2842bdfddbd"
   },
   "outputs": [
    {
     "data": {
      "text/html": [
       "<div>\n",
       "<style scoped>\n",
       "    .dataframe tbody tr th:only-of-type {\n",
       "        vertical-align: middle;\n",
       "    }\n",
       "\n",
       "    .dataframe tbody tr th {\n",
       "        vertical-align: top;\n",
       "    }\n",
       "\n",
       "    .dataframe thead th {\n",
       "        text-align: right;\n",
       "    }\n",
       "</style>\n",
       "<table border=\"1\" class=\"dataframe\">\n",
       "  <thead>\n",
       "    <tr style=\"text-align: right;\">\n",
       "      <th></th>\n",
       "      <th>course_id</th>\n",
       "      <th>course_title</th>\n",
       "      <th>url</th>\n",
       "      <th>price</th>\n",
       "      <th>num_subscribers</th>\n",
       "      <th>num_reviews</th>\n",
       "      <th>num_lectures</th>\n",
       "      <th>level</th>\n",
       "      <th>Rating</th>\n",
       "      <th>content_duration</th>\n",
       "      <th>published_timestamp</th>\n",
       "      <th>subject</th>\n",
       "    </tr>\n",
       "  </thead>\n",
       "  <tbody>\n",
       "    <tr>\n",
       "      <th>0</th>\n",
       "      <td>348116.0</td>\n",
       "      <td>Photoshop In-Depth: Master all of Photoshop's ...</td>\n",
       "      <td>https://www.udemy.com/photoshop-tools/</td>\n",
       "      <td>0.0</td>\n",
       "      <td>53851.0</td>\n",
       "      <td>1779.0</td>\n",
       "      <td>45.0</td>\n",
       "      <td>All Levels</td>\n",
       "      <td>0.69</td>\n",
       "      <td>4.5</td>\n",
       "      <td>2014-11-30T04:22:11Z</td>\n",
       "      <td>Graphic Design</td>\n",
       "    </tr>\n",
       "    <tr>\n",
       "      <th>1</th>\n",
       "      <td>17349.0</td>\n",
       "      <td>Figure Drawing From Life Using The Reilly Tech...</td>\n",
       "      <td>https://www.udemy.com/figure-drawing-from-life...</td>\n",
       "      <td>0.0</td>\n",
       "      <td>47811.0</td>\n",
       "      <td>1041.0</td>\n",
       "      <td>22.0</td>\n",
       "      <td>Beginner Level</td>\n",
       "      <td>0.11</td>\n",
       "      <td>2.5</td>\n",
       "      <td>2012-05-09T18:14:57Z</td>\n",
       "      <td>Graphic Design</td>\n",
       "    </tr>\n",
       "    <tr>\n",
       "      <th>2</th>\n",
       "      <td>399938.0</td>\n",
       "      <td>Professional Logo Design in Adobe Illustrator</td>\n",
       "      <td>https://www.udemy.com/professional-logo-design...</td>\n",
       "      <td>0.0</td>\n",
       "      <td>44044.0</td>\n",
       "      <td>1563.0</td>\n",
       "      <td>45.0</td>\n",
       "      <td>Beginner Level</td>\n",
       "      <td>0.89</td>\n",
       "      <td>7.5</td>\n",
       "      <td>2015-01-22T11:18:06Z</td>\n",
       "      <td>Graphic Design</td>\n",
       "    </tr>\n",
       "    <tr>\n",
       "      <th>3</th>\n",
       "      <td>820194.0</td>\n",
       "      <td>Photoshop for Entrepreneurs - Design 11 Practi...</td>\n",
       "      <td>https://www.udemy.com/photoshop-for-entreprene...</td>\n",
       "      <td>200.0</td>\n",
       "      <td>36288.0</td>\n",
       "      <td>737.0</td>\n",
       "      <td>63.0</td>\n",
       "      <td>All Levels</td>\n",
       "      <td>0.96</td>\n",
       "      <td>5.0</td>\n",
       "      <td>2016-06-09T01:57:03Z</td>\n",
       "      <td>Graphic Design</td>\n",
       "    </tr>\n",
       "    <tr>\n",
       "      <th>4</th>\n",
       "      <td>249126.0</td>\n",
       "      <td>Logo Design Essentials</td>\n",
       "      <td>https://www.udemy.com/logo-design/</td>\n",
       "      <td>20.0</td>\n",
       "      <td>33205.0</td>\n",
       "      <td>481.0</td>\n",
       "      <td>12.0</td>\n",
       "      <td>Beginner Level</td>\n",
       "      <td>0.88</td>\n",
       "      <td>0.7</td>\n",
       "      <td>2014-06-30T03:09:27Z</td>\n",
       "      <td>Graphic Design</td>\n",
       "    </tr>\n",
       "  </tbody>\n",
       "</table>\n",
       "</div>"
      ],
      "text/plain": [
       "   course_id                                       course_title  \\\n",
       "0   348116.0  Photoshop In-Depth: Master all of Photoshop's ...   \n",
       "1    17349.0  Figure Drawing From Life Using The Reilly Tech...   \n",
       "2   399938.0      Professional Logo Design in Adobe Illustrator   \n",
       "3   820194.0  Photoshop for Entrepreneurs - Design 11 Practi...   \n",
       "4   249126.0                             Logo Design Essentials   \n",
       "\n",
       "                                                 url  price  num_subscribers  \\\n",
       "0             https://www.udemy.com/photoshop-tools/    0.0          53851.0   \n",
       "1  https://www.udemy.com/figure-drawing-from-life...    0.0          47811.0   \n",
       "2  https://www.udemy.com/professional-logo-design...    0.0          44044.0   \n",
       "3  https://www.udemy.com/photoshop-for-entreprene...  200.0          36288.0   \n",
       "4                 https://www.udemy.com/logo-design/   20.0          33205.0   \n",
       "\n",
       "   num_reviews  num_lectures           level  Rating  content_duration  \\\n",
       "0       1779.0          45.0      All Levels    0.69               4.5   \n",
       "1       1041.0          22.0  Beginner Level    0.11               2.5   \n",
       "2       1563.0          45.0  Beginner Level    0.89               7.5   \n",
       "3        737.0          63.0      All Levels    0.96               5.0   \n",
       "4        481.0          12.0  Beginner Level    0.88               0.7   \n",
       "\n",
       "    published_timestamp         subject  \n",
       "0  2014-11-30T04:22:11Z  Graphic Design  \n",
       "1  2012-05-09T18:14:57Z  Graphic Design  \n",
       "2  2015-01-22T11:18:06Z  Graphic Design  \n",
       "3  2016-06-09T01:57:03Z  Graphic Design  \n",
       "4  2014-06-30T03:09:27Z  Graphic Design  "
      ]
     },
     "execution_count": 168,
     "metadata": {},
     "output_type": "execute_result"
    }
   ],
   "source": [
    "# uploading data about all courses\n",
    "\n",
    "design_courses   = pd.read_csv(f'{current_path}/udemy courses datasets/3.1-data-sheet-udemy-courses-design-courses.csv')\n",
    "\n",
    "music_courses    = pd.read_csv(f'{current_path}/udemy courses datasets/3.1-data-sheet-udemy-courses-music-courses.csv')\n",
    "\n",
    "web_courses      = pd.read_csv(f'{current_path}/udemy courses datasets/3.1-data-sheet-udemy-courses-web-development.csv')\n",
    "\n",
    "business_courses = pd.read_csv(f'{current_path}/udemy courses datasets/3.1-data-sheet-udemy-courses-business-courses.csv')\n",
    "\n",
    "all_courses = pd.concat([design_courses, music_courses, web_courses, business_courses])\n",
    "\n",
    "all_courses.head()"
   ]
  },
  {
   "cell_type": "code",
   "execution_count": 169,
   "metadata": {
    "colab": {
     "base_uri": "https://localhost:8080/"
    },
    "id": "S1vdCR3jYREG",
    "outputId": "7a3088d2-6a65-4ee1-bdd7-2342733b97c7"
   },
   "outputs": [
    {
     "name": "stdout",
     "output_type": "stream",
     "text": [
      "<class 'pandas.core.frame.DataFrame'>\n",
      "Int64Index: 3681 entries, 0 to 1191\n",
      "Data columns (total 12 columns):\n",
      " #   Column               Non-Null Count  Dtype  \n",
      "---  ------               --------------  -----  \n",
      " 0   course_id            3676 non-null   float64\n",
      " 1   course_title         3676 non-null   object \n",
      " 2   url                  3676 non-null   object \n",
      " 3   price                3676 non-null   float64\n",
      " 4   num_subscribers      3676 non-null   float64\n",
      " 5   num_reviews          3676 non-null   float64\n",
      " 6   num_lectures         3676 non-null   float64\n",
      " 7   level                3676 non-null   object \n",
      " 8   Rating               3677 non-null   float64\n",
      " 9   content_duration     3676 non-null   float64\n",
      " 10  published_timestamp  3676 non-null   object \n",
      " 11  subject              3677 non-null   object \n",
      "dtypes: float64(7), object(5)\n",
      "memory usage: 373.9+ KB\n"
     ]
    }
   ],
   "source": [
    "# getting general info about final dataset\n",
    "all_courses.info()"
   ]
  },
  {
   "cell_type": "code",
   "execution_count": 170,
   "metadata": {
    "colab": {
     "base_uri": "https://localhost:8080/",
     "height": 299
    },
    "id": "eOPJIkc8bbd7",
    "outputId": "5c9f980c-32bf-488b-d4eb-0efb224bc358"
   },
   "outputs": [
    {
     "data": {
      "text/html": [
       "<div>\n",
       "<style scoped>\n",
       "    .dataframe tbody tr th:only-of-type {\n",
       "        vertical-align: middle;\n",
       "    }\n",
       "\n",
       "    .dataframe tbody tr th {\n",
       "        vertical-align: top;\n",
       "    }\n",
       "\n",
       "    .dataframe thead th {\n",
       "        text-align: right;\n",
       "    }\n",
       "</style>\n",
       "<table border=\"1\" class=\"dataframe\">\n",
       "  <thead>\n",
       "    <tr style=\"text-align: right;\">\n",
       "      <th></th>\n",
       "      <th>course_id</th>\n",
       "      <th>course_title</th>\n",
       "      <th>url</th>\n",
       "      <th>price</th>\n",
       "      <th>num_subscribers</th>\n",
       "      <th>num_reviews</th>\n",
       "      <th>num_lectures</th>\n",
       "      <th>level</th>\n",
       "      <th>Rating</th>\n",
       "      <th>content_duration</th>\n",
       "      <th>published_timestamp</th>\n",
       "      <th>subject</th>\n",
       "    </tr>\n",
       "  </thead>\n",
       "  <tbody>\n",
       "    <tr>\n",
       "      <th>94</th>\n",
       "      <td>NaN</td>\n",
       "      <td>NaN</td>\n",
       "      <td>NaN</td>\n",
       "      <td>NaN</td>\n",
       "      <td>NaN</td>\n",
       "      <td>NaN</td>\n",
       "      <td>NaN</td>\n",
       "      <td>NaN</td>\n",
       "      <td>NaN</td>\n",
       "      <td>NaN</td>\n",
       "      <td>NaN</td>\n",
       "      <td>NaN</td>\n",
       "    </tr>\n",
       "    <tr>\n",
       "      <th>434</th>\n",
       "      <td>NaN</td>\n",
       "      <td>NaN</td>\n",
       "      <td>NaN</td>\n",
       "      <td>NaN</td>\n",
       "      <td>NaN</td>\n",
       "      <td>NaN</td>\n",
       "      <td>NaN</td>\n",
       "      <td>NaN</td>\n",
       "      <td>NaN</td>\n",
       "      <td>NaN</td>\n",
       "      <td>NaN</td>\n",
       "      <td>NaN</td>\n",
       "    </tr>\n",
       "    <tr>\n",
       "      <th>193</th>\n",
       "      <td>NaN</td>\n",
       "      <td>NaN</td>\n",
       "      <td>NaN</td>\n",
       "      <td>NaN</td>\n",
       "      <td>NaN</td>\n",
       "      <td>NaN</td>\n",
       "      <td>NaN</td>\n",
       "      <td>NaN</td>\n",
       "      <td>NaN</td>\n",
       "      <td>NaN</td>\n",
       "      <td>NaN</td>\n",
       "      <td>NaN</td>\n",
       "    </tr>\n",
       "    <tr>\n",
       "      <th>405</th>\n",
       "      <td>NaN</td>\n",
       "      <td>NaN</td>\n",
       "      <td>NaN</td>\n",
       "      <td>NaN</td>\n",
       "      <td>NaN</td>\n",
       "      <td>NaN</td>\n",
       "      <td>NaN</td>\n",
       "      <td>NaN</td>\n",
       "      <td>NaN</td>\n",
       "      <td>NaN</td>\n",
       "      <td>NaN</td>\n",
       "      <td>Subject: Web Development</td>\n",
       "    </tr>\n",
       "    <tr>\n",
       "      <th>1191</th>\n",
       "      <td>NaN</td>\n",
       "      <td>NaN</td>\n",
       "      <td>NaN</td>\n",
       "      <td>NaN</td>\n",
       "      <td>NaN</td>\n",
       "      <td>NaN</td>\n",
       "      <td>NaN</td>\n",
       "      <td>NaN</td>\n",
       "      <td>0.690353</td>\n",
       "      <td>NaN</td>\n",
       "      <td>NaN</td>\n",
       "      <td>NaN</td>\n",
       "    </tr>\n",
       "  </tbody>\n",
       "</table>\n",
       "</div>"
      ],
      "text/plain": [
       "      course_id course_title  url  price  num_subscribers  num_reviews  \\\n",
       "94          NaN          NaN  NaN    NaN              NaN          NaN   \n",
       "434         NaN          NaN  NaN    NaN              NaN          NaN   \n",
       "193         NaN          NaN  NaN    NaN              NaN          NaN   \n",
       "405         NaN          NaN  NaN    NaN              NaN          NaN   \n",
       "1191        NaN          NaN  NaN    NaN              NaN          NaN   \n",
       "\n",
       "      num_lectures level    Rating  content_duration published_timestamp  \\\n",
       "94             NaN   NaN       NaN               NaN                 NaN   \n",
       "434            NaN   NaN       NaN               NaN                 NaN   \n",
       "193            NaN   NaN       NaN               NaN                 NaN   \n",
       "405            NaN   NaN       NaN               NaN                 NaN   \n",
       "1191           NaN   NaN  0.690353               NaN                 NaN   \n",
       "\n",
       "                       subject  \n",
       "94                         NaN  \n",
       "434                        NaN  \n",
       "193                        NaN  \n",
       "405   Subject: Web Development  \n",
       "1191                       NaN  "
      ]
     },
     "execution_count": 170,
     "metadata": {},
     "output_type": "execute_result"
    }
   ],
   "source": [
    "# checking null values\n",
    "all_courses[all_courses['course_id'].isnull()]"
   ]
  },
  {
   "cell_type": "code",
   "execution_count": 171,
   "metadata": {
    "colab": {
     "base_uri": "https://localhost:8080/"
    },
    "id": "H2zTZlQQbPPC",
    "outputId": "273858a4-6c32-4021-cc48-6ee345211897"
   },
   "outputs": [
    {
     "name": "stdout",
     "output_type": "stream",
     "text": [
      "<class 'pandas.core.frame.DataFrame'>\n",
      "Int64Index: 3676 entries, 0 to 1190\n",
      "Data columns (total 12 columns):\n",
      " #   Column               Non-Null Count  Dtype  \n",
      "---  ------               --------------  -----  \n",
      " 0   course_id            3676 non-null   float64\n",
      " 1   course_title         3676 non-null   object \n",
      " 2   url                  3676 non-null   object \n",
      " 3   price                3676 non-null   float64\n",
      " 4   num_subscribers      3676 non-null   float64\n",
      " 5   num_reviews          3676 non-null   float64\n",
      " 6   num_lectures         3676 non-null   float64\n",
      " 7   level                3676 non-null   object \n",
      " 8   Rating               3676 non-null   float64\n",
      " 9   content_duration     3676 non-null   float64\n",
      " 10  published_timestamp  3676 non-null   object \n",
      " 11  subject              3676 non-null   object \n",
      "dtypes: float64(7), object(5)\n",
      "memory usage: 373.3+ KB\n"
     ]
    }
   ],
   "source": [
    "# deleting empty values from dataset\n",
    "all_courses = all_courses[~all_courses['course_id'].isnull()]\n",
    "all_courses.info()"
   ]
  },
  {
   "cell_type": "code",
   "execution_count": 172,
   "metadata": {
    "colab": {
     "base_uri": "https://localhost:8080/"
    },
    "id": "mDheMKZ6cVsw",
    "outputId": "56320b95-1bfb-4457-c118-9eae8d89b352"
   },
   "outputs": [
    {
     "data": {
      "text/plain": [
       "datetime64[ns, UTC]"
      ]
     },
     "execution_count": 172,
     "metadata": {},
     "output_type": "execute_result"
    }
   ],
   "source": [
    "# all columns have correct dtypes except of 'published_timestamp' - let's change it\n",
    "all_courses['published_timestamp'] = pd.to_datetime(all_courses['published_timestamp'])\n",
    "\n",
    "all_courses['published_timestamp'].dtypes"
   ]
  },
  {
   "cell_type": "code",
   "execution_count": 173,
   "metadata": {},
   "outputs": [
    {
     "name": "stderr",
     "output_type": "stream",
     "text": [
      "/Users/macbook/opt/anaconda3/lib/python3.9/site-packages/pandas/core/arrays/datetimes.py:1162: UserWarning: Converting to PeriodArray/Index representation will drop timezone information.\n",
      "  warnings.warn(\n"
     ]
    },
    {
     "data": {
      "text/plain": [
       "2016    1205\n",
       "2015    1014\n",
       "2017     714\n",
       "2014     492\n",
       "2013     201\n",
       "2012      45\n",
       "2011       5\n",
       "Freq: A-DEC, Name: published_timestamp, dtype: int64"
      ]
     },
     "execution_count": 173,
     "metadata": {},
     "output_type": "execute_result"
    }
   ],
   "source": [
    "# to make a dataset more representative only last 4 years will be taken: 2014, 2015, 2016 and 2017\n",
    "all_courses['published_timestamp'].dt.to_period('Y').value_counts()"
   ]
  },
  {
   "cell_type": "code",
   "execution_count": 174,
   "metadata": {},
   "outputs": [],
   "source": [
    "all_courses = all_courses[all_courses['published_timestamp'].dt.year >= 2014]"
   ]
  },
  {
   "cell_type": "code",
   "execution_count": 175,
   "metadata": {},
   "outputs": [
    {
     "name": "stderr",
     "output_type": "stream",
     "text": [
      "/Users/macbook/opt/anaconda3/lib/python3.9/site-packages/pandas/core/arrays/datetimes.py:1162: UserWarning: Converting to PeriodArray/Index representation will drop timezone information.\n",
      "  warnings.warn(\n",
      "/Users/macbook/opt/anaconda3/lib/python3.9/site-packages/pandas/core/arrays/datetimes.py:1162: UserWarning: Converting to PeriodArray/Index representation will drop timezone information.\n",
      "  warnings.warn(\n"
     ]
    },
    {
     "data": {
      "text/html": [
       "<div>\n",
       "<style scoped>\n",
       "    .dataframe tbody tr th:only-of-type {\n",
       "        vertical-align: middle;\n",
       "    }\n",
       "\n",
       "    .dataframe tbody tr th {\n",
       "        vertical-align: top;\n",
       "    }\n",
       "\n",
       "    .dataframe thead th {\n",
       "        text-align: right;\n",
       "    }\n",
       "</style>\n",
       "<table border=\"1\" class=\"dataframe\">\n",
       "  <thead>\n",
       "    <tr style=\"text-align: right;\">\n",
       "      <th></th>\n",
       "      <th>published_timestamp</th>\n",
       "      <th>published_date</th>\n",
       "      <th>published_month</th>\n",
       "    </tr>\n",
       "  </thead>\n",
       "  <tbody>\n",
       "    <tr>\n",
       "      <th>0</th>\n",
       "      <td>2014-11-30 04:22:11+00:00</td>\n",
       "      <td>2014-11-30</td>\n",
       "      <td>2014-11-01</td>\n",
       "    </tr>\n",
       "    <tr>\n",
       "      <th>2</th>\n",
       "      <td>2015-01-22 11:18:06+00:00</td>\n",
       "      <td>2015-01-22</td>\n",
       "      <td>2015-01-01</td>\n",
       "    </tr>\n",
       "    <tr>\n",
       "      <th>3</th>\n",
       "      <td>2016-06-09 01:57:03+00:00</td>\n",
       "      <td>2016-06-09</td>\n",
       "      <td>2016-06-01</td>\n",
       "    </tr>\n",
       "  </tbody>\n",
       "</table>\n",
       "</div>"
      ],
      "text/plain": [
       "        published_timestamp published_date published_month\n",
       "0 2014-11-30 04:22:11+00:00     2014-11-30      2014-11-01\n",
       "2 2015-01-22 11:18:06+00:00     2015-01-22      2015-01-01\n",
       "3 2016-06-09 01:57:03+00:00     2016-06-09      2016-06-01"
      ]
     },
     "execution_count": 175,
     "metadata": {},
     "output_type": "execute_result"
    }
   ],
   "source": [
    "# also we do not need the exact time of a course creation\n",
    "\n",
    "all_courses['published_date']  = all_courses['published_timestamp'].dt.to_period('d').dt.to_timestamp()\n",
    "all_courses['published_month'] = all_courses['published_timestamp'].dt.to_period('M').dt.to_timestamp()\n",
    "all_courses[['published_timestamp', 'published_date', 'published_month']].head(3)"
   ]
  },
  {
   "cell_type": "code",
   "execution_count": 176,
   "metadata": {},
   "outputs": [
    {
     "data": {
      "text/html": [
       "<div>\n",
       "<style scoped>\n",
       "    .dataframe tbody tr th:only-of-type {\n",
       "        vertical-align: middle;\n",
       "    }\n",
       "\n",
       "    .dataframe tbody tr th {\n",
       "        vertical-align: top;\n",
       "    }\n",
       "\n",
       "    .dataframe thead th {\n",
       "        text-align: right;\n",
       "    }\n",
       "</style>\n",
       "<table border=\"1\" class=\"dataframe\">\n",
       "  <thead>\n",
       "    <tr style=\"text-align: right;\">\n",
       "      <th></th>\n",
       "      <th>price</th>\n",
       "      <th>is_free</th>\n",
       "    </tr>\n",
       "  </thead>\n",
       "  <tbody>\n",
       "    <tr>\n",
       "      <th>0</th>\n",
       "      <td>0.0</td>\n",
       "      <td>free</td>\n",
       "    </tr>\n",
       "    <tr>\n",
       "      <th>2</th>\n",
       "      <td>0.0</td>\n",
       "      <td>free</td>\n",
       "    </tr>\n",
       "    <tr>\n",
       "      <th>3</th>\n",
       "      <td>200.0</td>\n",
       "      <td>paid</td>\n",
       "    </tr>\n",
       "    <tr>\n",
       "      <th>4</th>\n",
       "      <td>20.0</td>\n",
       "      <td>paid</td>\n",
       "    </tr>\n",
       "    <tr>\n",
       "      <th>5</th>\n",
       "      <td>150.0</td>\n",
       "      <td>paid</td>\n",
       "    </tr>\n",
       "  </tbody>\n",
       "</table>\n",
       "</div>"
      ],
      "text/plain": [
       "   price is_free\n",
       "0    0.0    free\n",
       "2    0.0    free\n",
       "3  200.0    paid\n",
       "4   20.0    paid\n",
       "5  150.0    paid"
      ]
     },
     "execution_count": 176,
     "metadata": {},
     "output_type": "execute_result"
    }
   ],
   "source": [
    "def create_is_free_column(row):\n",
    "    if row['price'] != 0.0:\n",
    "        return 'paid'\n",
    "    else:\n",
    "        return 'free'\n",
    "\n",
    "all_courses['is_free'] = all_courses.apply(create_is_free_column, axis=1)\n",
    "all_courses[['price', 'is_free']].head(5)"
   ]
  },
  {
   "cell_type": "code",
   "execution_count": 177,
   "metadata": {},
   "outputs": [
    {
     "data": {
      "text/html": [
       "<div>\n",
       "<style scoped>\n",
       "    .dataframe tbody tr th:only-of-type {\n",
       "        vertical-align: middle;\n",
       "    }\n",
       "\n",
       "    .dataframe tbody tr th {\n",
       "        vertical-align: top;\n",
       "    }\n",
       "\n",
       "    .dataframe thead th {\n",
       "        text-align: right;\n",
       "    }\n",
       "</style>\n",
       "<table border=\"1\" class=\"dataframe\">\n",
       "  <thead>\n",
       "    <tr style=\"text-align: right;\">\n",
       "      <th></th>\n",
       "      <th>price</th>\n",
       "      <th>num_subscribers</th>\n",
       "      <th>revenue</th>\n",
       "    </tr>\n",
       "  </thead>\n",
       "  <tbody>\n",
       "    <tr>\n",
       "      <th>0</th>\n",
       "      <td>0.0</td>\n",
       "      <td>53851.0</td>\n",
       "      <td>0.0</td>\n",
       "    </tr>\n",
       "    <tr>\n",
       "      <th>2</th>\n",
       "      <td>0.0</td>\n",
       "      <td>44044.0</td>\n",
       "      <td>0.0</td>\n",
       "    </tr>\n",
       "    <tr>\n",
       "      <th>3</th>\n",
       "      <td>200.0</td>\n",
       "      <td>36288.0</td>\n",
       "      <td>7257600.0</td>\n",
       "    </tr>\n",
       "    <tr>\n",
       "      <th>4</th>\n",
       "      <td>20.0</td>\n",
       "      <td>33205.0</td>\n",
       "      <td>664100.0</td>\n",
       "    </tr>\n",
       "    <tr>\n",
       "      <th>5</th>\n",
       "      <td>150.0</td>\n",
       "      <td>26742.0</td>\n",
       "      <td>4011300.0</td>\n",
       "    </tr>\n",
       "  </tbody>\n",
       "</table>\n",
       "</div>"
      ],
      "text/plain": [
       "   price  num_subscribers    revenue\n",
       "0    0.0          53851.0        0.0\n",
       "2    0.0          44044.0        0.0\n",
       "3  200.0          36288.0  7257600.0\n",
       "4   20.0          33205.0   664100.0\n",
       "5  150.0          26742.0  4011300.0"
      ]
     },
     "execution_count": 177,
     "metadata": {},
     "output_type": "execute_result"
    }
   ],
   "source": [
    "all_courses['revenue'] = all_courses['price'] * all_courses['num_subscribers']\n",
    "all_courses[['price', 'num_subscribers', 'revenue']].head()"
   ]
  },
  {
   "cell_type": "code",
   "execution_count": 178,
   "metadata": {},
   "outputs": [
    {
     "data": {
      "text/plain": [
       "104.0"
      ]
     },
     "execution_count": 178,
     "metadata": {},
     "output_type": "execute_result"
    }
   ],
   "source": [
    "quantiles = pd.DataFrame(all_courses['num_subscribers'].quantile(q=[.25, .5, .75]),\n",
    "                         columns=['num_subscribers'])\n",
    "\n",
    "quantiles.loc[.25][0]"
   ]
  },
  {
   "cell_type": "code",
   "execution_count": 179,
   "metadata": {},
   "outputs": [
    {
     "name": "stdout",
     "output_type": "stream",
     "text": [
      "      num_subscribers\n",
      "0.25            104.0\n",
      "0.50            885.0\n",
      "0.75           2409.0\n",
      "\n",
      "   num_subscribers popularity\n",
      "0          53851.0    highest\n",
      "2          44044.0    highest\n",
      "3          36288.0    highest\n",
      "4          33205.0    highest\n",
      "5          26742.0    highest\n"
     ]
    }
   ],
   "source": [
    "# adding categorical column about number of subscribers\n",
    "\n",
    "def create_popularity_column(row, quantiles):\n",
    "    if row['num_subscribers'] <= quantiles.loc[.25][0]:\n",
    "        return 'lowest'\n",
    "    elif row['num_subscribers'] <= quantiles.loc[.5][0]:\n",
    "        return 'low'\n",
    "    elif row['num_subscribers'] <= quantiles.loc[.75][0]:\n",
    "        return 'medium'\n",
    "    else:\n",
    "        return 'highest'\n",
    "\n",
    "\n",
    "quantiles = pd.DataFrame(all_courses['num_subscribers'].quantile(q=[.25, .5, .75]),\n",
    "                         columns=['num_subscribers'])\n",
    "\n",
    "all_courses['popularity'] = all_courses.apply(create_popularity_column, quantiles=quantiles, axis=1)\n",
    "\n",
    "\n",
    "print(quantiles)\n",
    "print()\n",
    "print(all_courses[['num_subscribers', 'popularity']].head())"
   ]
  },
  {
   "cell_type": "code",
   "execution_count": 180,
   "metadata": {
    "colab": {
     "base_uri": "https://localhost:8080/"
    },
    "id": "rxEgEy4azA4s",
    "outputId": "28e25125-4c1a-4ec4-e80d-30b2e8d19fa3"
   },
   "outputs": [
    {
     "name": "stdout",
     "output_type": "stream",
     "text": [
      "Before:\n",
      "['Graphic Design' 'Musical Instruments' 'Subject: Web Development'\n",
      " 'Business Finance']\n",
      "\n",
      "After:\n",
      "['Graphic Design' 'Musical Instruments' 'Web Development'\n",
      " 'Business Finance']\n"
     ]
    }
   ],
   "source": [
    "# moreover the incorrect values were noticed in subject column\n",
    "\n",
    "print('Before:')\n",
    "print(all_courses['subject'].unique())\n",
    "print()\n",
    "\n",
    "all_courses['subject'] = all_courses['subject'].str.replace('Subject: ', '')\n",
    "print('After:')\n",
    "print(all_courses['subject'].unique())"
   ]
  },
  {
   "cell_type": "code",
   "execution_count": 181,
   "metadata": {},
   "outputs": [
    {
     "name": "stdout",
     "output_type": "stream",
     "text": [
      "before: 3425\n",
      "duplicates: 4\n",
      "after: (3421, 17)\n"
     ]
    }
   ],
   "source": [
    "# duplicates dropping\n",
    "\n",
    "print(f'before: {all_courses.shape[0]}')\n",
    "\n",
    "duplicates = all_courses[all_courses['course_id'].duplicated()].shape[0]\n",
    "\n",
    "print(f'duplicates: {duplicates}')\n",
    "\n",
    "all_courses = all_courses.sort_values('published_date').drop_duplicates('course_id')\n",
    "\n",
    "print(f'after: {all_courses.shape}')"
   ]
  },
  {
   "cell_type": "code",
   "execution_count": 182,
   "metadata": {
    "id": "Jx9A2nD08Dhf"
   },
   "outputs": [],
   "source": [
    "# this final data is vizualized in Power BI \n",
    "uploading_folder = current_path + '/final datasets'\n",
    "\n",
    "all_courses.to_csv(f'{uploading_folder}/all_courses_data.csv', index=False)"
   ]
  },
  {
   "cell_type": "code",
   "execution_count": 183,
   "metadata": {
    "colab": {
     "base_uri": "https://localhost:8080/",
     "height": 254
    },
    "id": "5EDONkZZqZcF",
    "outputId": "67a8a296-37af-45be-ee60-d863f4631997"
   },
   "outputs": [
    {
     "name": "stderr",
     "output_type": "stream",
     "text": [
      "/var/folders/jb/gdn4lw2s6ldf0y7k7mcj2q440000gn/T/ipykernel_89078/1309563845.py:8: FutureWarning: The default value of regex will change from True to False in a future version.\n",
      "  modified_titles = all_courses['course_title'].str.lower().str.replace('[^\\w\\s]', '')\n"
     ]
    },
    {
     "data": {
      "text/html": [
       "<div>\n",
       "<style scoped>\n",
       "    .dataframe tbody tr th:only-of-type {\n",
       "        vertical-align: middle;\n",
       "    }\n",
       "\n",
       "    .dataframe tbody tr th {\n",
       "        vertical-align: top;\n",
       "    }\n",
       "\n",
       "    .dataframe thead th {\n",
       "        text-align: right;\n",
       "    }\n",
       "</style>\n",
       "<table border=\"1\" class=\"dataframe\">\n",
       "  <thead>\n",
       "    <tr style=\"text-align: right;\">\n",
       "      <th></th>\n",
       "      <th>word</th>\n",
       "      <th>frequency</th>\n",
       "    </tr>\n",
       "  </thead>\n",
       "  <tbody>\n",
       "    <tr>\n",
       "      <th>3</th>\n",
       "      <td>learn</td>\n",
       "      <td>479</td>\n",
       "    </tr>\n",
       "    <tr>\n",
       "      <th>8</th>\n",
       "      <td>trading</td>\n",
       "      <td>302</td>\n",
       "    </tr>\n",
       "    <tr>\n",
       "      <th>9</th>\n",
       "      <td>beginners</td>\n",
       "      <td>279</td>\n",
       "    </tr>\n",
       "    <tr>\n",
       "      <th>10</th>\n",
       "      <td>how</td>\n",
       "      <td>253</td>\n",
       "    </tr>\n",
       "    <tr>\n",
       "      <th>11</th>\n",
       "      <td>course</td>\n",
       "      <td>229</td>\n",
       "    </tr>\n",
       "  </tbody>\n",
       "</table>\n",
       "</div>"
      ],
      "text/plain": [
       "         word  frequency\n",
       "3       learn        479\n",
       "8     trading        302\n",
       "9   beginners        279\n",
       "10        how        253\n",
       "11     course        229"
      ]
     },
     "execution_count": 183,
     "metadata": {},
     "output_type": "execute_result"
    }
   ],
   "source": [
    "# as an additional improvement let's count frequency for every word in 'course_title'\n",
    "# column for creating tag columns after in a dashboard\n",
    "\n",
    "# words that are popular in subtitles, but are useless for our goals\n",
    "ban_list = ['to', 'for', 'the', 'a', 'and', 'in', 'with', 'of', 'by', 'on']\n",
    "\n",
    "# deleting all whitespaces or punctuation\n",
    "modified_titles = all_courses['course_title'].str.lower().str.replace('[^\\w\\s]', '')\n",
    "\n",
    "words_frequencies = modified_titles.str.split(expand=True).stack().value_counts().reset_index()\n",
    "words_frequencies.columns = ['word', 'frequency']\n",
    "words_frequencies = words_frequencies[~words_frequencies['word'].isin(ban_list)]\n",
    "words_frequencies.head()"
   ]
  },
  {
   "cell_type": "code",
   "execution_count": 184,
   "metadata": {
    "id": "mvPW3hAUtKGK"
   },
   "outputs": [],
   "source": [
    "words_frequencies.to_csv(f'{uploading_folder}/words_frequencies.csv', index=False)"
   ]
  },
  {
   "cell_type": "code",
   "execution_count": 185,
   "metadata": {
    "colab": {
     "base_uri": "https://localhost:8080/"
    },
    "id": "2MfdWmrNs-5u",
    "outputId": "455bb175-e921-4c9e-819e-65fd0b0425f2"
   },
   "outputs": [
    {
     "name": "stdout",
     "output_type": "stream",
     "text": [
      "business_finance examples:\n",
      "        word  frequency\n",
      "0    trading        302\n",
      "3      forex        166\n",
      "5  financial        130\n",
      "\n",
      "web_development examples:\n",
      "        word  frequency\n",
      "1      learn        200\n",
      "6        web        190\n",
      "7  beginners        143\n",
      "\n",
      "graphic_design examples:\n",
      "        word  frequency\n",
      "0  photoshop        169\n",
      "1     design        162\n",
      "4      adobe         97\n",
      "\n",
      "musical_instruments examples:\n",
      "     word  frequency\n",
      "0  guitar        187\n",
      "1   piano        176\n",
      "4    play        147\n",
      "\n"
     ]
    },
    {
     "name": "stderr",
     "output_type": "stream",
     "text": [
      "/var/folders/jb/gdn4lw2s6ldf0y7k7mcj2q440000gn/T/ipykernel_89078/1003869326.py:4: FutureWarning: The default value of regex will change from True to False in a future version.\n",
      "  modified_titles = all_courses \\\n",
      "/var/folders/jb/gdn4lw2s6ldf0y7k7mcj2q440000gn/T/ipykernel_89078/1003869326.py:4: FutureWarning: The default value of regex will change from True to False in a future version.\n",
      "  modified_titles = all_courses \\\n",
      "/var/folders/jb/gdn4lw2s6ldf0y7k7mcj2q440000gn/T/ipykernel_89078/1003869326.py:4: FutureWarning: The default value of regex will change from True to False in a future version.\n",
      "  modified_titles = all_courses \\\n",
      "/var/folders/jb/gdn4lw2s6ldf0y7k7mcj2q440000gn/T/ipykernel_89078/1003869326.py:4: FutureWarning: The default value of regex will change from True to False in a future version.\n",
      "  modified_titles = all_courses \\\n"
     ]
    }
   ],
   "source": [
    "# and let's get these words frequencies for every subject\n",
    "\n",
    "for subject in all_courses['subject'].unique():\n",
    "    modified_titles = all_courses \\\n",
    "                            .query(f\"subject == \\'{subject}\\'\") \\\n",
    "                            ['course_title'].str.lower().str.replace('[^\\w\\s]', '')\n",
    "\n",
    "    words_frequencies = modified_titles.str.split(expand=True).stack().value_counts().reset_index()\n",
    "    words_frequencies.columns = ['word', 'frequency']\n",
    "    file_name = subject.lower().replace(' ', '_')\n",
    "    words_frequencies = words_frequencies[~words_frequencies['word'].isin(ban_list)]\n",
    "    words_frequencies.to_csv(f'{uploading_folder}/{file_name}_words_freq.csv', index=False)\n",
    "\n",
    "    print(f'{file_name} examples:')\n",
    "    print(words_frequencies.head(3))\n",
    "    print()"
   ]
  }
 ],
 "metadata": {
  "colab": {
   "provenance": []
  },
  "kernelspec": {
   "display_name": "Python 3 (ipykernel)",
   "language": "python",
   "name": "python3"
  },
  "language_info": {
   "codemirror_mode": {
    "name": "ipython",
    "version": 3
   },
   "file_extension": ".py",
   "mimetype": "text/x-python",
   "name": "python",
   "nbconvert_exporter": "python",
   "pygments_lexer": "ipython3",
   "version": "3.9.12"
  }
 },
 "nbformat": 4,
 "nbformat_minor": 1
}
